{
 "cells": [
  {
   "cell_type": "code",
   "execution_count": 1,
   "id": "af26c690",
   "metadata": {},
   "outputs": [],
   "source": [
    "from interpolant import AnyOrderMaskInsertionInterpolant\n",
    "import torch\n",
    "from schedule import LinearSchedule"
   ]
  },
  {
   "cell_type": "code",
   "execution_count": 63,
   "id": "6c834d3f",
   "metadata": {},
   "outputs": [
    {
     "name": "stdout",
     "output_type": "stream",
     "text": [
      "rate tensor([100.0001])\n",
      "xt tensor([[1, 2, 2, 2, 1, 2, 2, 3]])\n",
      "st tensor([[0, 1, 2, 3, 4, 5, 6, 9]])\n",
      "posterior tensor([[[0., 0., 0.],\n",
      "         [0., 0., 0.],\n",
      "         [0., 0., 0.],\n",
      "         [0., 0., 0.],\n",
      "         [0., 0., 0.],\n",
      "         [0., 0., 0.],\n",
      "         [0., 0., 0.],\n",
      "         [0., 0., 0.]]])\n",
      "length tensor([[[1., 0., 0., 0., 0., 0., 0., 0., 0.],\n",
      "         [1., 0., 0., 0., 0., 0., 0., 0., 0.],\n",
      "         [1., 0., 0., 0., 0., 0., 0., 0., 0.],\n",
      "         [1., 0., 0., 0., 0., 0., 0., 0., 0.],\n",
      "         [1., 0., 0., 0., 0., 0., 0., 0., 0.],\n",
      "         [1., 0., 0., 0., 0., 0., 0., 0., 0.],\n",
      "         [1., 0., 0., 0., 0., 0., 0., 0., 0.],\n",
      "         [1., 0., 0., 0., 0., 0., 0., 0., 0.],\n",
      "         [1., 0., 0., 0., 0., 0., 0., 0., 0.]]])\n"
     ]
    }
   ],
   "source": [
    "mask_token = 0\n",
    "pad_token = 3\n",
    "max_length = 8\n",
    "mask_schedule = LinearSchedule()\n",
    "interpolant = AnyOrderMaskInsertionInterpolant(mask_schedule, 3, 0, 3, 8)\n",
    "t = torch.Tensor([0.99])\n",
    "x1 = torch.Tensor([[1, 2, 2, 2, 1, 2, 2, 3]]).to(torch.int64)\n",
    "xt, st = interpolant.sample_interpolant(t, x1)\n",
    "\n",
    "\n",
    "reparametrised_rate = interpolant.reparametrised_conditional_rate(xt, st, t, x1)\n",
    "\n",
    "print(\"xt\", xt)\n",
    "print(\"st\", st)\n",
    "print(\"posterior\", reparametrised_rate.per_token_posterior)\n",
    "print(\"length\", reparametrised_rate.length_posterior)"
   ]
  },
  {
   "cell_type": "code",
   "execution_count": 64,
   "id": "5134a5cb",
   "metadata": {},
   "outputs": [
    {
     "name": "stdout",
     "output_type": "stream",
     "text": [
      "tensor([[1, 2, 2, 2, 1, 2, 2, 3]])\n",
      "tensor([[ True,  True,  True,  True,  True,  True,  True, False]])\n",
      "tensor([[False, False, False, False, False, False, False, False]])\n",
      "tensor([[1, 2, 2, 2, 1, 2, 2, 3]])\n",
      "tensor([[0, 0, 0, 0, 0, 0, 0, 0, 0]])\n"
     ]
    }
   ],
   "source": [
    "t = torch.Tensor([0.99])\n",
    "x1 = torch.Tensor([[1, 2, 2, 2, 1, 2, 2, 3]]).to(torch.int64)\n",
    "xt, st, xt_mask_indices, x1_remained, gap_counts = interpolant.jay_sample_interpolant(t, x1)\n",
    "\n",
    "print(xt)\n",
    "print(st)\n",
    "print(xt_mask_indices)\n",
    "print(x1_remained)\n",
    "print(gap_counts)\n"
   ]
  },
  {
   "cell_type": "code",
   "execution_count": 65,
   "id": "7ad929b8",
   "metadata": {},
   "outputs": [
    {
     "name": "stdout",
     "output_type": "stream",
     "text": [
      "tensor([[[0., 0., 0., 0.],\n",
      "         [0., 0., 0., 0.],\n",
      "         [0., 0., 0., 0.],\n",
      "         [0., 0., 0., 0.],\n",
      "         [0., 0., 0., 0.],\n",
      "         [0., 0., 0., 0.],\n",
      "         [0., 0., 0., 0.],\n",
      "         [0., 0., 0., 0.]]])\n"
     ]
    }
   ],
   "source": [
    "x1_one_hot = torch.nn.functional.one_hot(x1_remained, num_classes=4).to(xt.dtype)\n",
    "# Expand to match x1_one_hot shape: (B, L, vocab_size)\n",
    "mask = xt_mask_indices.unsqueeze(-1)  # (B, L, 1)\n",
    "x1_one_hot = x1_one_hot * mask / (1 - t.view(-1, 1, 1))\n",
    "\n",
    "print(x1_one_hot)"
   ]
  },
  {
   "cell_type": "code",
   "execution_count": 37,
   "id": "44072b22",
   "metadata": {},
   "outputs": [
    {
     "data": {
      "text/plain": [
       "tensor([[[0., 0., 0., 1., 0., 0.],\n",
       "         [1., 0., 0., 0., 0., 0.],\n",
       "         [1., 0., 0., 0., 0., 0.],\n",
       "         [1., 0., 0., 0., 0., 0.],\n",
       "         [1., 0., 0., 0., 0., 0.],\n",
       "         [1., 0., 0., 0., 0., 0.]],\n",
       "\n",
       "        [[1., 0., 0., 0., 0., 0.],\n",
       "         [1., 0., 0., 0., 0., 0.],\n",
       "         [1., 0., 0., 0., 0., 0.],\n",
       "         [0., 1., 0., 0., 0., 0.],\n",
       "         [1., 0., 0., 0., 0., 0.],\n",
       "         [1., 0., 0., 0., 0., 0.]]])"
      ]
     },
     "execution_count": 37,
     "metadata": {},
     "output_type": "execute_result"
    }
   ],
   "source": [
    "reparametrised_rate.length_posterior"
   ]
  },
  {
   "cell_type": "code",
   "execution_count": null,
   "id": "c04150ba",
   "metadata": {},
   "outputs": [],
   "source": []
  },
  {
   "cell_type": "code",
   "execution_count": null,
   "id": "e831e031",
   "metadata": {},
   "outputs": [],
   "source": []
  }
 ],
 "metadata": {
  "kernelspec": {
   "display_name": "Python 3 (ipykernel)",
   "language": "python",
   "name": "python3"
  },
  "language_info": {
   "codemirror_mode": {
    "name": "ipython",
    "version": 3
   },
   "file_extension": ".py",
   "mimetype": "text/x-python",
   "name": "python",
   "nbconvert_exporter": "python",
   "pygments_lexer": "ipython3",
   "version": "3.11.12"
  }
 },
 "nbformat": 4,
 "nbformat_minor": 5
}
