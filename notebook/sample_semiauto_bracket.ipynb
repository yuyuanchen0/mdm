{
 "cells": [
  {
   "cell_type": "code",
   "execution_count": 1,
   "metadata": {},
   "outputs": [],
   "source": [
    "from train_semi_auto import BracketFlowModule\n",
    "from sampling import semiauto_euler_sampling, SamplingTraceDatapoint"
   ]
  },
  {
   "cell_type": "code",
   "execution_count": 2,
   "metadata": {},
   "outputs": [],
   "source": [
    "checkpoint_path = \"checkpoints/bracket-flow/last-v48.ckpt\"\n",
    "model = BracketFlowModule.load_from_checkpoint(checkpoint_path)"
   ]
  },
  {
   "cell_type": "code",
   "execution_count": 3,
   "metadata": {},
   "outputs": [
    {
     "name": "stderr",
     "output_type": "stream",
     "text": [
      "/n/netscratch/albergo_lab/Lab/brianlck/interpretable-flow/model/transformer.py:36: FutureWarning: `torch.cuda.amp.autocast(args...)` is deprecated. Please use `torch.amp.autocast('cuda', args...)` instead.\n",
      "  with torch.cuda.amp.autocast(enabled=False):\n",
      "/n/netscratch/albergo_lab/Lab/brianlck/interpretable-flow/model/transformer.py:167: FutureWarning: `torch.cuda.amp.autocast(args...)` is deprecated. Please use `torch.amp.autocast('cuda', args...)` instead.\n",
      "  with torch.cuda.amp.autocast(enabled=False):\n"
     ]
    }
   ],
   "source": [
    "steps = 2000\n",
    "batch_size = 10\n",
    "samples, trace = semiauto_euler_sampling(\n",
    "    model,\n",
    "    model.interpolant,\n",
    "    steps=steps,\n",
    "    mask=0,\n",
    "    pad=3,\n",
    "    batch_size=10,\n",
    "    max_length=64,\n",
    "    return_trace=True,\n",
    ")"
   ]
  },
  {
   "cell_type": "code",
   "execution_count": 7,
   "metadata": {},
   "outputs": [],
   "source": [
    "def process_trace(trace: list[SamplingTraceDatapoint]):\n",
    "    event_type_mapping = dict(change=\"c\", insertion=\"i\")\n",
    "    token_mapping = {0: \"m\", 1: \"(\", 2: \")\"}\n",
    "\n",
    "    def _process_datapoint(datapoint: SamplingTraceDatapoint):\n",
    "        return dict(\n",
    "            t=datapoint.t,\n",
    "            a=event_type_mapping[datapoint.event_type],\n",
    "            tk=token_mapping[datapoint.token],\n",
    "            i=datapoint.position,\n",
    "        )\n",
    "\n",
    "    return [_process_datapoint(datapoint) for datapoint in trace]"
   ]
  },
  {
   "cell_type": "code",
   "execution_count": 8,
   "metadata": {},
   "outputs": [
    {
     "name": "stdout",
     "output_type": "stream",
     "text": [
      "[{'t': 0.09800010919570923, 'a': 'i', 'tk': 'm', 'i': 0}, {'t': 0.13750000298023224, 'a': 'i', 'tk': 'm', 'i': 1}, {'t': 0.13999997079372406, 'a': 'i', 'tk': 'm', 'i': 2}, {'t': 0.1689995974302292, 'a': 'i', 'tk': 'm', 'i': 3}, {'t': 0.2329987734556198, 'a': 'i', 'tk': 'm', 'i': 4}, {'t': 0.2429986447095871, 'a': 'i', 'tk': 'm', 'i': 5}, {'t': 0.2569984793663025, 'a': 'c', 'tk': '(', 'i': 1}, {'t': 0.26299840211868286, 'a': 'i', 'tk': 'm', 'i': 6}, {'t': 0.2679983377456665, 'a': 'i', 'tk': 'm', 'i': 7}, {'t': 0.2779982089996338, 'a': 'i', 'tk': 'm', 'i': 8}, {'t': 0.29399800300598145, 'a': 'c', 'tk': '(', 'i': 2}, {'t': 0.29649797081947327, 'a': 'i', 'tk': 'm', 'i': 9}, {'t': 0.319497674703598, 'a': 'i', 'tk': 'm', 'i': 10}, {'t': 0.3339974880218506, 'a': 'i', 'tk': 'm', 'i': 11}, {'t': 0.34299737215042114, 'a': 'i', 'tk': 'm', 'i': 12}, {'t': 0.3479973077774048, 'a': 'i', 'tk': 'm', 'i': 13}, {'t': 0.35149726271629333, 'a': 'i', 'tk': 'm', 'i': 14}, {'t': 0.35549721121788025, 'a': 'i', 'tk': 'm', 'i': 15}, {'t': 0.36499708890914917, 'a': 'i', 'tk': 'm', 'i': 16}, {'t': 0.36949703097343445, 'a': 'i', 'tk': 'm', 'i': 17}, {'t': 0.3774969279766083, 'a': 'i', 'tk': 'm', 'i': 18}, {'t': 0.37799692153930664, 'a': 'i', 'tk': 'm', 'i': 19}, {'t': 0.4369961619377136, 'a': 'c', 'tk': '(', 'i': 8}, {'t': 0.44799602031707764, 'a': 'c', 'tk': '(', 'i': 15}, {'t': 0.4524959623813629, 'a': 'c', 'tk': '(', 'i': 3}, {'t': 0.5064956545829773, 'a': 'i', 'tk': 'm', 'i': 20}, {'t': 0.5249965190887451, 'a': 'i', 'tk': 'm', 'i': 21}, {'t': 0.5254965424537659, 'a': 'i', 'tk': 'm', 'i': 22}, {'t': 0.5339969396591187, 'a': 'i', 'tk': 'm', 'i': 23}, {'t': 0.555497944355011, 'a': 'i', 'tk': 'm', 'i': 24}, {'t': 0.565498411655426, 'a': 'c', 'tk': '(', 'i': 21}, {'t': 0.5664984583854675, 'a': 'c', 'tk': ')', 'i': 10}, {'t': 0.5744988322257996, 'a': 'c', 'tk': '(', 'i': 0}, {'t': 0.5754988789558411, 'a': 'i', 'tk': 'm', 'i': 25}, {'t': 0.5784990191459656, 'a': 'c', 'tk': ')', 'i': 24}, {'t': 0.5914996266365051, 'a': 'i', 'tk': 'm', 'i': 26}, {'t': 0.5944997668266296, 'a': 'c', 'tk': ')', 'i': 25}, {'t': 0.5964998602867126, 'a': 'i', 'tk': 'm', 'i': 27}, {'t': 0.6185008883476257, 'a': 'c', 'tk': ')', 'i': 26}, {'t': 0.6290013790130615, 'a': 'i', 'tk': 'm', 'i': 28}, {'t': 0.6500023603439331, 'a': 'c', 'tk': ')', 'i': 5}, {'t': 0.6720033884048462, 'a': 'c', 'tk': '(', 'i': 23}, {'t': 0.6780036687850952, 'a': 'c', 'tk': '(', 'i': 9}, {'t': 0.7150053977966309, 'a': 'c', 'tk': '(', 'i': 19}, {'t': 0.7225057482719421, 'a': 'i', 'tk': 'm', 'i': 29}, {'t': 0.7655077576637268, 'a': 'c', 'tk': ')', 'i': 17}, {'t': 0.7710080146789551, 'a': 'c', 'tk': ')', 'i': 16}, {'t': 0.7965092062950134, 'a': 'c', 'tk': ')', 'i': 13}, {'t': 0.8275106549263, 'a': 'c', 'tk': ')', 'i': 4}, {'t': 0.8355110287666321, 'a': 'c', 'tk': '(', 'i': 12}, {'t': 0.8445114493370056, 'a': 'c', 'tk': ')', 'i': 6}, {'t': 0.8500117063522339, 'a': 'c', 'tk': '(', 'i': 14}, {'t': 0.8590121269226074, 'a': 'c', 'tk': ')', 'i': 7}, {'t': 0.9100145101547241, 'a': 'i', 'tk': 'm', 'i': 30}, {'t': 0.9115145802497864, 'a': 'c', 'tk': ')', 'i': 29}, {'t': 0.9205150008201599, 'a': 'c', 'tk': ')', 'i': 11}, {'t': 0.9620169401168823, 'a': 'c', 'tk': '(', 'i': 30}, {'t': 0.9725174307823181, 'a': 'c', 'tk': ')', 'i': 28}, {'t': 0.9805178046226501, 'a': 'c', 'tk': '(', 'i': 22}, {'t': 0.9830179214477539, 'a': 'c', 'tk': '(', 'i': 18}, {'t': 0.9890182018280029, 'a': 'c', 'tk': ')', 'i': 27}, {'t': 0.9935184121131897, 'a': 'c', 'tk': '(', 'i': 20}, {'t': 0.999018669128418, 'a': 'i', 'tk': 'm', 'i': 31}, {'t': 0.9995186924934387, 'a': 'c', 'tk': ')', 'i': 31}]\n"
     ]
    },
    {
     "data": {
      "text/html": [
       "\n",
       "<style>\n",
       ".token{display:inline-block;padding:5px 10px;margin:2px;border:1px solid #aaa;border-radius:4px;\n",
       "font-family:monospace;transition:background .5s}\n",
       ".hi-i{background:lightgreen}\n",
       ".hi-c{background:yellow}\n",
       "#s{min-height:30px;margin-bottom:20px}\n",
       "</style>\n",
       "<div id=\"s\"></div>\n",
       "<button id=\"r\">Replay</button>\n",
       "<script>\n",
       "// Use events provided from Python\n",
       "var ev = [{\"t\": 0.09800010919570923, \"a\": \"i\", \"tk\": \"m\", \"i\": 0}, {\"t\": 0.13750000298023224, \"a\": \"i\", \"tk\": \"m\", \"i\": 1}, {\"t\": 0.13999997079372406, \"a\": \"i\", \"tk\": \"m\", \"i\": 2}, {\"t\": 0.1689995974302292, \"a\": \"i\", \"tk\": \"m\", \"i\": 3}, {\"t\": 0.2329987734556198, \"a\": \"i\", \"tk\": \"m\", \"i\": 4}, {\"t\": 0.2429986447095871, \"a\": \"i\", \"tk\": \"m\", \"i\": 5}, {\"t\": 0.2569984793663025, \"a\": \"c\", \"tk\": \"(\", \"i\": 1}, {\"t\": 0.26299840211868286, \"a\": \"i\", \"tk\": \"m\", \"i\": 6}, {\"t\": 0.2679983377456665, \"a\": \"i\", \"tk\": \"m\", \"i\": 7}, {\"t\": 0.2779982089996338, \"a\": \"i\", \"tk\": \"m\", \"i\": 8}, {\"t\": 0.29399800300598145, \"a\": \"c\", \"tk\": \"(\", \"i\": 2}, {\"t\": 0.29649797081947327, \"a\": \"i\", \"tk\": \"m\", \"i\": 9}, {\"t\": 0.319497674703598, \"a\": \"i\", \"tk\": \"m\", \"i\": 10}, {\"t\": 0.3339974880218506, \"a\": \"i\", \"tk\": \"m\", \"i\": 11}, {\"t\": 0.34299737215042114, \"a\": \"i\", \"tk\": \"m\", \"i\": 12}, {\"t\": 0.3479973077774048, \"a\": \"i\", \"tk\": \"m\", \"i\": 13}, {\"t\": 0.35149726271629333, \"a\": \"i\", \"tk\": \"m\", \"i\": 14}, {\"t\": 0.35549721121788025, \"a\": \"i\", \"tk\": \"m\", \"i\": 15}, {\"t\": 0.36499708890914917, \"a\": \"i\", \"tk\": \"m\", \"i\": 16}, {\"t\": 0.36949703097343445, \"a\": \"i\", \"tk\": \"m\", \"i\": 17}, {\"t\": 0.3774969279766083, \"a\": \"i\", \"tk\": \"m\", \"i\": 18}, {\"t\": 0.37799692153930664, \"a\": \"i\", \"tk\": \"m\", \"i\": 19}, {\"t\": 0.4369961619377136, \"a\": \"c\", \"tk\": \"(\", \"i\": 8}, {\"t\": 0.44799602031707764, \"a\": \"c\", \"tk\": \"(\", \"i\": 15}, {\"t\": 0.4524959623813629, \"a\": \"c\", \"tk\": \"(\", \"i\": 3}, {\"t\": 0.5064956545829773, \"a\": \"i\", \"tk\": \"m\", \"i\": 20}, {\"t\": 0.5249965190887451, \"a\": \"i\", \"tk\": \"m\", \"i\": 21}, {\"t\": 0.5254965424537659, \"a\": \"i\", \"tk\": \"m\", \"i\": 22}, {\"t\": 0.5339969396591187, \"a\": \"i\", \"tk\": \"m\", \"i\": 23}, {\"t\": 0.555497944355011, \"a\": \"i\", \"tk\": \"m\", \"i\": 24}, {\"t\": 0.565498411655426, \"a\": \"c\", \"tk\": \"(\", \"i\": 21}, {\"t\": 0.5664984583854675, \"a\": \"c\", \"tk\": \")\", \"i\": 10}, {\"t\": 0.5744988322257996, \"a\": \"c\", \"tk\": \"(\", \"i\": 0}, {\"t\": 0.5754988789558411, \"a\": \"i\", \"tk\": \"m\", \"i\": 25}, {\"t\": 0.5784990191459656, \"a\": \"c\", \"tk\": \")\", \"i\": 24}, {\"t\": 0.5914996266365051, \"a\": \"i\", \"tk\": \"m\", \"i\": 26}, {\"t\": 0.5944997668266296, \"a\": \"c\", \"tk\": \")\", \"i\": 25}, {\"t\": 0.5964998602867126, \"a\": \"i\", \"tk\": \"m\", \"i\": 27}, {\"t\": 0.6185008883476257, \"a\": \"c\", \"tk\": \")\", \"i\": 26}, {\"t\": 0.6290013790130615, \"a\": \"i\", \"tk\": \"m\", \"i\": 28}, {\"t\": 0.6500023603439331, \"a\": \"c\", \"tk\": \")\", \"i\": 5}, {\"t\": 0.6720033884048462, \"a\": \"c\", \"tk\": \"(\", \"i\": 23}, {\"t\": 0.6780036687850952, \"a\": \"c\", \"tk\": \"(\", \"i\": 9}, {\"t\": 0.7150053977966309, \"a\": \"c\", \"tk\": \"(\", \"i\": 19}, {\"t\": 0.7225057482719421, \"a\": \"i\", \"tk\": \"m\", \"i\": 29}, {\"t\": 0.7655077576637268, \"a\": \"c\", \"tk\": \")\", \"i\": 17}, {\"t\": 0.7710080146789551, \"a\": \"c\", \"tk\": \")\", \"i\": 16}, {\"t\": 0.7965092062950134, \"a\": \"c\", \"tk\": \")\", \"i\": 13}, {\"t\": 0.8275106549263, \"a\": \"c\", \"tk\": \")\", \"i\": 4}, {\"t\": 0.8355110287666321, \"a\": \"c\", \"tk\": \"(\", \"i\": 12}, {\"t\": 0.8445114493370056, \"a\": \"c\", \"tk\": \")\", \"i\": 6}, {\"t\": 0.8500117063522339, \"a\": \"c\", \"tk\": \"(\", \"i\": 14}, {\"t\": 0.8590121269226074, \"a\": \"c\", \"tk\": \")\", \"i\": 7}, {\"t\": 0.9100145101547241, \"a\": \"i\", \"tk\": \"m\", \"i\": 30}, {\"t\": 0.9115145802497864, \"a\": \"c\", \"tk\": \")\", \"i\": 29}, {\"t\": 0.9205150008201599, \"a\": \"c\", \"tk\": \")\", \"i\": 11}, {\"t\": 0.9620169401168823, \"a\": \"c\", \"tk\": \"(\", \"i\": 30}, {\"t\": 0.9725174307823181, \"a\": \"c\", \"tk\": \")\", \"i\": 28}, {\"t\": 0.9805178046226501, \"a\": \"c\", \"tk\": \"(\", \"i\": 22}, {\"t\": 0.9830179214477539, \"a\": \"c\", \"tk\": \"(\", \"i\": 18}, {\"t\": 0.9890182018280029, \"a\": \"c\", \"tk\": \")\", \"i\": 27}, {\"t\": 0.9935184121131897, \"a\": \"c\", \"tk\": \"(\", \"i\": 20}, {\"t\": 0.999018669128418, \"a\": \"i\", \"tk\": \"m\", \"i\": 31}, {\"t\": 0.9995186924934387, \"a\": \"c\", \"tk\": \")\", \"i\": 31}], s = [];\n",
       "var render = function(hIdx, act){\n",
       "  var c = document.getElementById(\"s\"); c.innerHTML=\"\";\n",
       "  s.forEach(function(t,k){ \n",
       "    var sp = document.createElement(\"span\");\n",
       "    sp.className = \"token\" + (k===hIdx ? \" hi-\"+act : \"\");\n",
       "    sp.textContent = t; c.appendChild(sp);\n",
       "  }); \n",
       "},\n",
       "run = function(){\n",
       "  s = []; render();\n",
       "  ev.forEach(function(e){\n",
       "    setTimeout(function(){\n",
       "      if(e.a==\"i\"){\n",
       "        var p = e.i;\n",
       "        s.splice(p, 0, e.tk);\n",
       "        render(p, \"i\");\n",
       "      } else {\n",
       "        var p = (e.i===undefined || e.i<0 || e.i>=s.length) ? Math.floor(s.length/2) : e.i;\n",
       "        s[p] = e.tk; render(p, \"c\");\n",
       "      }\n",
       "      setTimeout(render,600);\n",
       "    }, e.t*5000);\n",
       "  });\n",
       "};\n",
       "document.getElementById(\"r\").onclick = run;\n",
       "run();\n",
       "</script>\n"
      ],
      "text/plain": [
       "<IPython.core.display.HTML object>"
      ]
     },
     "metadata": {},
     "output_type": "display_data"
    }
   ],
   "source": [
    "from IPython.display import display, HTML\n",
    "import json\n",
    "\n",
    "# Select the index of the tensor to visualize\n",
    "id = 0\n",
    "assert 0 <= id < batch_size, \"id must be in [0, batch_size)\"\n",
    "\n",
    "events = process_trace(trace[id])\n",
    "print(events)\n",
    "display(\n",
    "    HTML(f\"\"\"\n",
    "<style>\n",
    ".token{{display:inline-block;padding:5px 10px;margin:2px;border:1px solid #aaa;border-radius:4px;\n",
    "font-family:monospace;transition:background .5s}}\n",
    ".hi-i{{background:lightgreen}}\n",
    ".hi-c{{background:yellow}}\n",
    "#s{{min-height:30px;margin-bottom:20px}}\n",
    "</style>\n",
    "<div id=\"s\"></div>\n",
    "<button id=\"r\">Replay</button>\n",
    "<script>\n",
    "// Use events provided from Python\n",
    "var ev = {json.dumps(events)}, s = [];\n",
    "var render = function(hIdx, act){{\n",
    "  var c = document.getElementById(\"s\"); c.innerHTML=\"\";\n",
    "  s.forEach(function(t,k){{ \n",
    "    var sp = document.createElement(\"span\");\n",
    "    sp.className = \"token\" + (k===hIdx ? \" hi-\"+act : \"\");\n",
    "    sp.textContent = t; c.appendChild(sp);\n",
    "  }}); \n",
    "}},\n",
    "run = function(){{\n",
    "  s = []; render();\n",
    "  ev.forEach(function(e){{\n",
    "    setTimeout(function(){{\n",
    "      if(e.a==\"i\"){{\n",
    "        var p = e.i;\n",
    "        s.splice(p, 0, e.tk);\n",
    "        render(p, \"i\");\n",
    "      }} else {{\n",
    "        var p = (e.i===undefined || e.i<0 || e.i>=s.length) ? Math.floor(s.length/2) : e.i;\n",
    "        s[p] = e.tk; render(p, \"c\");\n",
    "      }}\n",
    "      setTimeout(render,600);\n",
    "    }}, e.t*5000);\n",
    "  }});\n",
    "}};\n",
    "document.getElementById(\"r\").onclick = run;\n",
    "run();\n",
    "</script>\n",
    "\"\"\")\n",
    ")"
   ]
  }
 ],
 "metadata": {
  "kernelspec": {
   "display_name": ".venv",
   "language": "python",
   "name": "python3"
  },
  "language_info": {
   "codemirror_mode": {
    "name": "ipython",
    "version": 3
   },
   "file_extension": ".py",
   "mimetype": "text/x-python",
   "name": "python",
   "nbconvert_exporter": "python",
   "pygments_lexer": "ipython3",
   "version": "3.11.5"
  }
 },
 "nbformat": 4,
 "nbformat_minor": 2
}
